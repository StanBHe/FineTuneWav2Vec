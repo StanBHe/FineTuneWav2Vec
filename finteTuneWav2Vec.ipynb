{
 "cells": [
  {
   "cell_type": "code",
   "execution_count": null,
   "metadata": {},
   "outputs": [],
   "source": [
    "#Tutorial Followed: https://huggingface.co/blog/fine-tune-wav2vec2-english\n",
    "\n",
    "# !pip install datasets>=1.18.3\n",
    "# !pip install transformers==4.41.2\n",
    "# !pip install librosa\n",
    "# !pip install jiwer\n",
    "# !pip install torch torchvision torchaudio --index-url https://download.pytorch.org/whl/cu121\n",
    "# !pip install wandb\n",
    "# !pip install pandas\n",
    "\n",
    "from datasets import Dataset, load_dataset, load_metric, load_from_disk, concatenate_datasets\n",
    "import pandas as pd\n",
    "from datasets import Audio, DatasetDict"
   ]
  },
  {
   "cell_type": "code",
   "execution_count": null,
   "metadata": {},
   "outputs": [],
   "source": [
    "# dataset = load_dataset(\"parler-tts/mls_eng_10k\", split=\"train\", streaming=True)\n",
    "# dataset = dataset.shuffle(seed=42, buffer_size=10_000)\n",
    "# dataset = dataset.take(3000)\n",
    "\n",
    "# from functools import partial\n",
    "# from datasets import Dataset\n",
    "\n",
    "# def gen_from_iterable_dataset(iterable_ds):\n",
    "#     yield from iterable_ds\n",
    "\n",
    "# ds = Dataset.from_generator(partial(gen_from_iterable_dataset, dataset), features=dataset.features)\n",
    "\n",
    "# print(ds[0]['audio'])\n",
    "\n",
    "# ds.save_to_disk(\"mls_3k_sample\")"
   ]
  },
  {
   "cell_type": "code",
   "execution_count": null,
   "metadata": {},
   "outputs": [],
   "source": [
    "# ## we will load the both of the data here.\n",
    "# train_df = pd.read_excel(\"train_audio_normalized_text_pair.xlsx\")\n",
    "# test_df = pd.read_excel(\"val_audio_normalized_text_pair.xlsx\")\n",
    "\n",
    "# ## we will rename the columns as \"audio\", \"sentence\".\n",
    "# train_df.columns = [\"audio\", \"transcript\"]\n",
    "# test_df.columns = [\"audio\", \"transcript\"]\n",
    "\n",
    "# train_audio_path = './train_audios/'\n",
    "# test_audio_path = './dev_audios/'\n",
    "\n",
    "# train_df['audio'] = train_audio_path + train_df['audio'].astype(str)\n",
    "# test_df['audio'] = test_audio_path + test_df['audio'].astype(str)\n",
    "\n",
    "# ## convert the pandas dataframes to dataset \n",
    "# train_dataset = Dataset.from_pandas(train_df)\n",
    "# test_dataset = Dataset.from_pandas(test_df)\n",
    "\n",
    "# ## convert the sample rate of every audio files using cast_column function\n",
    "# train_dataset = train_dataset.cast_column(\"audio\", Audio(sampling_rate=16000))\n",
    "# test_dataset = test_dataset.cast_column(\"audio\", Audio(sampling_rate=16000))\n",
    "\n",
    "# dataset = DatasetDict({\"train\":train_dataset,\"test\":test_dataset})\n",
    "\n",
    "# print(dataset)"
   ]
  },
  {
   "cell_type": "code",
   "execution_count": null,
   "metadata": {},
   "outputs": [],
   "source": [
    "dataset = load_from_disk('mls_3k_sample', keep_in_memory = True)\n",
    "\n",
    "print(dataset)\n",
    "print(type(dataset[0]['audio']))\n",
    "print(dataset[0]['audio'])\n",
    "\n",
    "# dataset = dataset.shuffle(seed=42).select(range(1100))\n",
    "\n",
    "dataset = dataset.train_test_split(test_size=0.1)\n",
    "print(dataset)\n",
    "\n",
    "dataset = dataset.remove_columns(['original_path', 'begin_time', 'end_time','audio_duration', 'speaker_id', 'book_id'])"
   ]
  },
  {
   "cell_type": "code",
   "execution_count": null,
   "metadata": {},
   "outputs": [],
   "source": [
    "# hs_dataset = load_from_disk('mls_3k_sample', keep_in_memory = True)\n",
    "# hs_dataset = hs_dataset.remove_columns(['original_path', 'begin_time', 'end_time','audio_duration', 'speaker_id', 'book_id'])\n",
    "# hs_dataset = hs_dataset.shuffle(seed=42).select(range(600))\n",
    "\n",
    "\n",
    "# train_df = pd.read_excel(\"train_audio_normalized_text_pair.xlsx\")\n",
    "# train_df.columns = [\"audio\", \"transcript\"]\n",
    "# train_audio_path = './train_audios/'\n",
    "# train_df['audio'] = train_audio_path + train_df['audio'].astype(str)\n",
    "# train_dataset = Dataset.from_pandas(train_df)\n",
    "\n",
    "# ## convert the sample rate of every audio files using cast_column function\n",
    "# train_dataset = train_dataset.cast_column(\"audio\", Audio(sampling_rate=16000))\n",
    "# train_dataset = train_dataset.shuffle(seed=42).select(range(6000))\n",
    "\n",
    "# hs_dataset = hs_dataset.cast_column(\"audio\", Audio(sampling_rate=16000))\n",
    "\n",
    "# dataset = DatasetDict({\"train\":train_dataset,\"test\":hs_dataset})\n",
    "\n",
    "# print(dataset)"
   ]
  },
  {
   "cell_type": "code",
   "execution_count": null,
   "metadata": {},
   "outputs": [],
   "source": [
    "# hs_dataset = load_from_disk('mls_3k_sample', keep_in_memory = True)\n",
    "# hs_dataset = hs_dataset.remove_columns(['original_path', 'begin_time', 'end_time','audio_duration', 'speaker_id', 'book_id'])\n",
    "# hs_dataset = hs_dataset.shuffle(seed=42).select(range(1300))\n",
    "\n",
    "\n",
    "# train_df = pd.read_excel(\"train_audio_normalized_text_pair.xlsx\")\n",
    "# train_df.columns = [\"audio\", \"transcript\"]\n",
    "# train_audio_path = './train_audios/'\n",
    "# train_df['audio'] = train_audio_path + train_df['audio'].astype(str)\n",
    "# train_dataset = Dataset.from_pandas(train_df)\n",
    "\n",
    "# ## convert the sample rate of every audio files using cast_column function\n",
    "# train_dataset = train_dataset.cast_column(\"audio\", Audio(sampling_rate=16000))\n",
    "# train_dataset = train_dataset.shuffle(seed=42).select(range(1000))\n",
    "\n",
    "# hs_dataset = hs_dataset.cast_column(\"audio\", Audio(sampling_rate=16000))\n",
    "# hs_dataset = hs_dataset.train_test_split(test_size=0.2)\n",
    "\n",
    "# concat_train_ds = concatenate_datasets([train_dataset, hs_dataset['train']])\n",
    "\n",
    "# dataset = DatasetDict({\"train\":concat_train_ds,\"test\":hs_dataset['test']})\n",
    "\n",
    "# print(dataset)"
   ]
  },
  {
   "cell_type": "code",
   "execution_count": null,
   "metadata": {},
   "outputs": [],
   "source": [
    "import re\n",
    "chars_to_ignore_regex = r'[!@#$%^&*()_+\\-=\\[\\]{};\\\":\\\\|,.<>\\/?`~]'\n",
    "\n",
    "def remove_special_characters(batch):\n",
    "    batch[\"transcript\"] = re.sub(chars_to_ignore_regex, '', batch[\"transcript\"]).lower()\n",
    "    return batch\n",
    "\n",
    "\n",
    "dataset = dataset.map(remove_special_characters)\n",
    "\n",
    "def extract_all_chars(batch):\n",
    "  all_text = \" \".join(batch[\"transcript\"])\n",
    "  vocab = list(set(all_text))\n",
    "  return {\"vocab\": [vocab], \"all_text\": [all_text]}\n",
    "\n",
    "vocabs = dataset.map(extract_all_chars, batched=True, batch_size=-1, keep_in_memory=True, remove_columns=dataset.column_names[\"train\"])"
   ]
  },
  {
   "cell_type": "code",
   "execution_count": null,
   "metadata": {},
   "outputs": [],
   "source": [
    "vocab_list = list(set(vocabs[\"train\"][\"vocab\"][0]) | set(vocabs[\"test\"][\"vocab\"][0]))\n",
    "\n",
    "vocab_dict = {v: k for k, v in enumerate(vocab_list)}\n",
    "vocab_dict"
   ]
  },
  {
   "cell_type": "code",
   "execution_count": null,
   "metadata": {},
   "outputs": [],
   "source": [
    "vocab_dict[\"|\"] = vocab_dict[\" \"]\n",
    "del vocab_dict[\" \"]\n",
    "vocab_dict[\"[UNK]\"] = len(vocab_dict)\n",
    "vocab_dict[\"[PAD]\"] = len(vocab_dict)\n",
    "print(len(vocab_dict))"
   ]
  },
  {
   "cell_type": "code",
   "execution_count": null,
   "metadata": {},
   "outputs": [],
   "source": [
    "import json\n",
    "with open('vocab.json', 'w') as vocab_file:\n",
    "    json.dump(vocab_dict, vocab_file)"
   ]
  },
  {
   "cell_type": "code",
   "execution_count": null,
   "metadata": {},
   "outputs": [],
   "source": [
    "# import IPython.display as ipd\n",
    "# import numpy as np\n",
    "# import random\n",
    "\n",
    "# rand_int = random.randint(0, len(dataset[\"train\"]))\n",
    "\n",
    "# print(dataset[\"train\"][rand_int][\"transcript\"])\n",
    "# ipd.Audio(data=np.asarray(dataset[\"train\"][rand_int][\"audio\"][\"array\"]), autoplay=True, rate=16000)\n",
    "# rand_int = random.randint(0, len(dataset[\"train\"]))\n",
    "\n",
    "# print(\"Target text:\", dataset[\"train\"][rand_int][\"transcript\"])\n",
    "# print(\"Input array shape:\", np.asarray(dataset[\"train\"][rand_int][\"audio\"][\"array\"]).shape)\n",
    "from transformers import Wav2Vec2CTCTokenizer, Wav2Vec2FeatureExtractor, Wav2Vec2Processor\n",
    "\n",
    "tokenizer = Wav2Vec2CTCTokenizer(\"./vocab.json\", unk_token=\"[UNK]\", pad_token=\"[PAD]\", word_delimiter_token=\"|\")\n",
    "\n",
    "feature_extractor = Wav2Vec2FeatureExtractor(feature_size=1, sampling_rate=16000, padding_value=0.0, do_normalize=True, return_attention_mask=False)\n",
    "\n",
    "processor = Wav2Vec2Processor(feature_extractor=feature_extractor, tokenizer=tokenizer)# print(\"Sampling rate:\", dataset[\"train\"][rand_int][\"audio\"][\"sampling_rate\"])"
   ]
  },
  {
   "cell_type": "code",
   "execution_count": null,
   "metadata": {},
   "outputs": [],
   "source": [
    "def prepare_dataset(batch):\n",
    "    audio = batch[\"audio\"]\n",
    "\n",
    "    # batched output is \"un-batched\" to ensure mapping is correct\n",
    "    batch[\"input_values\"] = processor(audio[\"array\"], sampling_rate=audio[\"sampling_rate\"]).input_values[0]\n",
    "    \n",
    "    with processor.as_target_processor():\n",
    "        batch[\"labels\"] = processor(batch[\"transcript\"]).input_ids\n",
    "    return batch"
   ]
  },
  {
   "cell_type": "code",
   "execution_count": null,
   "metadata": {},
   "outputs": [],
   "source": [
    "dataset = dataset.map(prepare_dataset, remove_columns=dataset.column_names[\"train\"])"
   ]
  },
  {
   "cell_type": "code",
   "execution_count": null,
   "metadata": {},
   "outputs": [],
   "source": [
    "import torch\n",
    "\n",
    "from dataclasses import dataclass, field\n",
    "from typing import Any, Dict, List, Optional, Union\n",
    "\n",
    "@dataclass\n",
    "class DataCollatorCTCWithPadding:\n",
    "    \"\"\"\n",
    "    Data collator that will dynamically pad the inputs received.\n",
    "    Args:\n",
    "        processor (:class:`~transformers.Wav2Vec2Processor`)\n",
    "            The processor used for proccessing the data.\n",
    "        padding (:obj:`bool`, :obj:`str` or :class:`~transformers.tokenization_utils_base.PaddingStrategy`, `optional`, defaults to :obj:`True`):\n",
    "            Select a strategy to pad the returned sequences (according to the model's padding side and padding index)\n",
    "            among:\n",
    "            * :obj:`True` or :obj:`'longest'`: Pad to the longest sequence in the batch (or no padding if only a single\n",
    "              sequence if provided).\n",
    "            * :obj:`'max_length'`: Pad to a maximum length specified with the argument :obj:`max_length` or to the\n",
    "              maximum acceptable input length for the model if that argument is not provided.\n",
    "            * :obj:`False` or :obj:`'do_not_pad'` (default): No padding (i.e., can output a batch with sequences of\n",
    "              different lengths).\n",
    "        max_length (:obj:`int`, `optional`):\n",
    "            Maximum length of the ``input_values`` of the returned list and optionally padding length (see above).\n",
    "        max_length_labels (:obj:`int`, `optional`):\n",
    "            Maximum length of the ``labels`` returned list and optionally padding length (see above).\n",
    "        pad_to_multiple_of (:obj:`int`, `optional`):\n",
    "            If set will pad the sequence to a multiple of the provided value.\n",
    "            This is especially useful to enable the use of Tensor Cores on NVIDIA hardware with compute capability >=\n",
    "            7.5 (Volta).\n",
    "    \"\"\"\n",
    "\n",
    "    processor: Wav2Vec2Processor\n",
    "    padding: Union[bool, str] = True\n",
    "    max_length: Optional[int] = None\n",
    "    max_length_labels: Optional[int] = None\n",
    "    pad_to_multiple_of: Optional[int] = None\n",
    "    pad_to_multiple_of_labels: Optional[int] = None\n",
    "\n",
    "    def __call__(self, features: List[Dict[str, Union[List[int], torch.Tensor]]]) -> Dict[str, torch.Tensor]:\n",
    "        # split inputs and labels since they have to be of different lengths and need\n",
    "        # different padding methods\n",
    "        input_features = [{\"input_values\": feature[\"input_values\"]} for feature in features]\n",
    "        label_features = [{\"input_ids\": feature[\"labels\"]} for feature in features]\n",
    "\n",
    "        batch = self.processor.pad(\n",
    "            input_features,\n",
    "            padding=self.padding,\n",
    "            max_length=self.max_length,\n",
    "            pad_to_multiple_of=self.pad_to_multiple_of,\n",
    "            return_tensors=\"pt\",\n",
    "        )\n",
    "        with self.processor.as_target_processor():\n",
    "            labels_batch = self.processor.pad(\n",
    "                label_features,\n",
    "                padding=self.padding,\n",
    "                max_length=self.max_length_labels,\n",
    "                pad_to_multiple_of=self.pad_to_multiple_of_labels,\n",
    "                return_tensors=\"pt\",\n",
    "            )\n",
    "\n",
    "        # replace padding with -100 to ignore loss correctly\n",
    "        labels = labels_batch[\"input_ids\"].masked_fill(labels_batch.attention_mask.ne(1), -100)\n",
    "\n",
    "        batch[\"labels\"] = labels\n",
    "\n",
    "        return batch\n"
   ]
  },
  {
   "cell_type": "code",
   "execution_count": null,
   "metadata": {},
   "outputs": [],
   "source": [
    "data_collator = DataCollatorCTCWithPadding(processor=processor, padding=True)"
   ]
  },
  {
   "cell_type": "code",
   "execution_count": null,
   "metadata": {},
   "outputs": [],
   "source": [
    "wer_metric = load_metric(\"wer\")"
   ]
  },
  {
   "cell_type": "code",
   "execution_count": null,
   "metadata": {},
   "outputs": [],
   "source": [
    "import numpy as np\n",
    "\n",
    "def compute_metrics(pred):\n",
    "    pred_logits = pred.predictions\n",
    "    pred_ids = np.argmax(pred_logits, axis=-1)\n",
    "\n",
    "    pred.label_ids[pred.label_ids == -100] = processor.tokenizer.pad_token_id\n",
    "\n",
    "    pred_str = processor.batch_decode(pred_ids)\n",
    "    # we do not want to group tokens when computing the metrics\n",
    "    label_str = processor.batch_decode(pred.label_ids, group_tokens=False)\n",
    "\n",
    "    wer = wer_metric.compute(predictions=pred_str, references=label_str)\n",
    "\n",
    "    return {\"wer\": wer}\n"
   ]
  },
  {
   "cell_type": "code",
   "execution_count": null,
   "metadata": {},
   "outputs": [],
   "source": [
    "from transformers import Wav2Vec2ForCTC\n",
    "\n",
    "model = Wav2Vec2ForCTC.from_pretrained(\n",
    "    \"facebook/wav2vec2-base\",\n",
    "    ctc_loss_reduction=\"mean\",\n",
    "    pad_token_id=processor.tokenizer.pad_token_id,\n",
    ")\n"
   ]
  },
  {
   "cell_type": "code",
   "execution_count": null,
   "metadata": {},
   "outputs": [],
   "source": []
  },
  {
   "cell_type": "code",
   "execution_count": null,
   "metadata": {},
   "outputs": [],
   "source": [
    "model.freeze_feature_extractor()\n",
    "\n"
   ]
  },
  {
   "cell_type": "code",
   "execution_count": null,
   "metadata": {},
   "outputs": [],
   "source": [
    "from transformers import TrainingArguments\n",
    "\n",
    "output_path = 'finetunedWav2Vec_hs_3k'\n",
    "\n",
    "training_args = TrainingArguments(\n",
    "  output_dir= output_path + '/model',\n",
    "  group_by_length=True,\n",
    "  per_device_train_batch_size=8,\n",
    "  evaluation_strategy=\"steps\",\n",
    "  num_train_epochs=20,\n",
    "  fp16=True,\n",
    "  gradient_checkpointing=True,\n",
    "  save_steps=500,\n",
    "  eval_steps=500,\n",
    "  logging_steps=500,\n",
    "  learning_rate=1e-4,\n",
    "  weight_decay=0.005,\n",
    "  warmup_steps=1000,\n",
    "  save_total_limit=2,\n",
    ")\n",
    "\n",
    "print(training_args.device)"
   ]
  },
  {
   "cell_type": "code",
   "execution_count": null,
   "metadata": {},
   "outputs": [],
   "source": [
    "from transformers import Trainer\n",
    "\n",
    "trainer = Trainer(\n",
    "    model=model,\n",
    "    data_collator=data_collator,\n",
    "    args=training_args,\n",
    "    compute_metrics=compute_metrics,\n",
    "    train_dataset=dataset[\"train\"],\n",
    "    eval_dataset=dataset[\"test\"],\n",
    "    tokenizer=processor.feature_extractor,\n",
    ")"
   ]
  },
  {
   "cell_type": "code",
   "execution_count": null,
   "metadata": {},
   "outputs": [],
   "source": [
    "trainer.train()"
   ]
  },
  {
   "cell_type": "code",
   "execution_count": null,
   "metadata": {},
   "outputs": [],
   "source": [
    "processor.save_pretrained(output_path + '/processor')"
   ]
  },
  {
   "cell_type": "code",
   "execution_count": null,
   "metadata": {},
   "outputs": [],
   "source": [
    "device = torch.device('cuda:0')\n",
    "repo_name = './finetunedWav2Vec_hs_3k/'\n",
    "\n",
    "eval_model = Wav2Vec2ForCTC.from_pretrained(repo_name+\"model/checkpoint-6000\").to(device)\n",
    "eval_processor = Wav2Vec2Processor.from_pretrained(repo_name+\"processor\")\n",
    "\n",
    "def map_to_result(batch):\n",
    "  with torch.no_grad():\n",
    "    input_values = torch.tensor(batch[\"input_values\"], device=\"cuda\").unsqueeze(0)\n",
    "    logits = eval_model(input_values).logits\n",
    "\n",
    "  pred_ids = torch.argmax(logits, dim=-1)\n",
    "  batch[\"pred_str\"] = eval_processor.batch_decode(pred_ids)[0]\n",
    "  batch[\"text\"] = eval_processor.decode(batch[\"labels\"], group_tokens=False)\n",
    "\n",
    "  return batch\n",
    "\n",
    "results = dataset[\"test\"].map(map_to_result, remove_columns=dataset[\"test\"].column_names)"
   ]
  },
  {
   "cell_type": "code",
   "execution_count": null,
   "metadata": {},
   "outputs": [],
   "source": [
    "print(\"Test WER: {:.3f}\".format(wer_metric.compute(predictions=results[\"pred_str\"], references=results[\"text\"])))"
   ]
  },
  {
   "cell_type": "code",
   "execution_count": null,
   "metadata": {},
   "outputs": [],
   "source": [
    "from datasets import ClassLabel\n",
    "import random\n",
    "import pandas as pd\n",
    "from IPython.display import display, HTML\n",
    "\n",
    "def show_random_elements(dataset, num_examples=10):\n",
    "    assert num_examples <= len(dataset), \"Can't pick more elements than there are in the dataset.\"\n",
    "    picks = []\n",
    "    for _ in range(num_examples):\n",
    "        pick = random.randint(0, len(dataset)-1)\n",
    "        while pick in picks:\n",
    "            pick = random.randint(0, len(dataset)-1)\n",
    "        picks.append(pick)\n",
    "    \n",
    "    df = pd.DataFrame(dataset[picks])\n",
    "    display(HTML(df.to_html()))"
   ]
  },
  {
   "cell_type": "code",
   "execution_count": null,
   "metadata": {},
   "outputs": [],
   "source": [
    "show_random_elements(results)"
   ]
  },
  {
   "cell_type": "code",
   "execution_count": null,
   "metadata": {},
   "outputs": [],
   "source": [
    "model.to(\"cuda\")\n",
    "\n",
    "with torch.no_grad():\n",
    "  logits = model(torch.tensor(dataset[\"test\"][:1][\"input_values\"], device=\"cuda\")).logits\n",
    "\n",
    "pred_ids = torch.argmax(logits, dim=-1)\n",
    "\n",
    "# convert ids to tokens\n",
    "\" \".join(processor.tokenizer.convert_ids_to_tokens(pred_ids[0].tolist()))"
   ]
  }
 ],
 "metadata": {
  "kernelspec": {
   "display_name": "Python 3",
   "language": "python",
   "name": "python3"
  },
  "language_info": {
   "codemirror_mode": {
    "name": "ipython",
    "version": 3
   },
   "file_extension": ".py",
   "mimetype": "text/x-python",
   "name": "python",
   "nbconvert_exporter": "python",
   "pygments_lexer": "ipython3",
   "version": "3.9.5"
  }
 },
 "nbformat": 4,
 "nbformat_minor": 2
}
